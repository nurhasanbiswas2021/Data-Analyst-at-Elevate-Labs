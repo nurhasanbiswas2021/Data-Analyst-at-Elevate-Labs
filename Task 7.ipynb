{
  "cells": [
    {
      "cell_type": "code",
      "source": [
        "import sqlite3\n",
        "\n",
        "# Connect to SQLite database (creates sales_data.db if it doesn't exist)\n",
        "conn = sqlite3.connect('sales_data.db')\n",
        "cursor = conn.cursor()\n",
        "\n",
        "# Create sales table\n",
        "cursor.execute('''\n",
        "    CREATE TABLE IF NOT EXISTS sales (\n",
        "        id INTEGER PRIMARY KEY AUTOINCREMENT,\n",
        "        product TEXT NOT NULL,\n",
        "        quantity INTEGER NOT NULL,\n",
        "        price REAL NOT NULL\n",
        "    )\n",
        "''')\n",
        "\n",
        "# Insert sample data\n",
        "sample_data = [\n",
        "    ('Laptop', 5, 999.99),\n",
        "    ('Mouse', 20, 19.99),\n",
        "    ('Keyboard', 10, 49.99),\n",
        "    ('Laptop', 3, 999.99),\n",
        "    ('Mouse', 15, 19.99)\n",
        "]\n",
        "cursor.executemany('INSERT INTO sales (product, quantity, price) VALUES (?, ?, ?)', sample_data)\n",
        "\n",
        "# Commit changes and close connection\n",
        "conn.commit()\n",
        "conn.close()\n",
        "\n",
        "print(\"Database 'sales_data.db' created with sales table and sample data.\")"
      ],
      "metadata": {
        "colab": {
          "base_uri": "https://localhost:8080/"
        },
        "id": "S8OZI-kXGKzK",
        "outputId": "84d72dcf-c6cb-4cf3-89d3-d6c7ea4d3c77"
      },
      "execution_count": 2,
      "outputs": [
        {
          "output_type": "stream",
          "name": "stdout",
          "text": [
            "Database 'sales_data.db' created with sales table and sample data.\n"
          ]
        }
      ]
    },
    {
      "cell_type": "code",
      "source": [
        "import sqlite3\n",
        "conn = sqlite3.connect('sales_data.db')\n",
        "cursor = conn.cursor()\n",
        "cursor.execute('SELECT * FROM sales')\n",
        "print(cursor.fetchall())\n",
        "conn.close()"
      ],
      "metadata": {
        "colab": {
          "base_uri": "https://localhost:8080/"
        },
        "id": "wtleD-4wGNJV",
        "outputId": "053f1bb1-9eba-4234-8b10-3b9185d843b5"
      },
      "execution_count": 3,
      "outputs": [
        {
          "output_type": "stream",
          "name": "stdout",
          "text": [
            "[(1, 'Laptop', 5, 999.99), (2, 'Mouse', 20, 19.99), (3, 'Keyboard', 10, 49.99), (4, 'Laptop', 3, 999.99), (5, 'Mouse', 15, 19.99)]\n"
          ]
        }
      ]
    },
    {
      "cell_type": "code",
      "source": [
        "import sqlite3\n",
        "import pandas as pd\n",
        "import matplotlib.pyplot as plt\n",
        "\n",
        "# Connect to SQLite database\n",
        "conn = sqlite3.connect('sales_data.db')\n",
        "\n",
        "# Query 1: Total quantity and revenue by product\n",
        "query1 = '''\n",
        "    SELECT product,\n",
        "           SUM(quantity) AS total_qty,\n",
        "           SUM(quantity * price) AS revenue\n",
        "    FROM sales\n",
        "    GROUP BY product\n",
        "'''\n",
        "df = pd.read_sql_query(query1, conn)\n",
        "\n",
        "# Query 2: Overall totals\n",
        "query2 = '''\n",
        "    SELECT SUM(quantity) AS total_quantity,\n",
        "           SUM(quantity * price) AS total_revenue\n",
        "    FROM sales\n",
        "'''\n",
        "totals = pd.read_sql_query(query2, conn)\n",
        "\n",
        "# Print results\n",
        "print(\"Sales by Product:\")\n",
        "print(df.to_string(index=False))\n",
        "print(\"\\nOverall Totals:\")\n",
        "print(f\"Total Quantity Sold: {totals['total_quantity'][0]}\")\n",
        "print(f\"Total Revenue: ${totals['total_revenue'][0]:,.2f}\")\n",
        "\n",
        "# Create bar chart\n",
        "fig, ax = plt.subplots(figsize=(8, 5))\n",
        "bar_width = 0.35\n",
        "x = range(len(df['product']))\n",
        "\n",
        "# Plot quantity and revenue bars\n",
        "ax.bar([i - bar_width/2 for i in x], df['total_qty'], bar_width, label='Quantity', color='skyblue')\n",
        "ax.bar([i + bar_width/2 for i in x], df['revenue']/1000, bar_width, label='Revenue ($K)', color='lightgreen')\n",
        "\n",
        "# Customize chart\n",
        "ax.set_xlabel('Product')\n",
        "ax.set_ylabel('Value')\n",
        "ax.set_title('Sales Summary by Product')\n",
        "ax.set_xticks(x)\n",
        "ax.set_xticklabels(df['product'])\n",
        "ax.legend()\n",
        "\n",
        "# Save and show plot\n",
        "plt.tight_layout()\n",
        "plt.savefig('sales_chart.png')\n",
        "plt.show()\n",
        "\n",
        "# Close connection\n",
        "conn.close()"
      ],
      "metadata": {
        "colab": {
          "base_uri": "https://localhost:8080/",
          "height": 663
        },
        "id": "xPYI7XCUGYcd",
        "outputId": "9384b1c4-144c-44a2-b1bb-0dbc62d3c660"
      },
      "execution_count": 4,
      "outputs": [
        {
          "output_type": "stream",
          "name": "stdout",
          "text": [
            "Sales by Product:\n",
            " product  total_qty  revenue\n",
            "Keyboard         10   499.90\n",
            "  Laptop          8  7999.92\n",
            "   Mouse         35   699.65\n",
            "\n",
            "Overall Totals:\n",
            "Total Quantity Sold: 53\n",
            "Total Revenue: $9,199.47\n"
          ]
        },
        {
          "output_type": "display_data",
          "data": {
            "text/plain": [
              "<Figure size 800x500 with 1 Axes>"
            ],
            "image/png": "[encoded data removed]"
          },
          "metadata": {}
        }
      ]
    },
    {
      "cell_type": "code",
      "source": [
        "import sqlite3\n",
        "import matplotlib.pyplot as plt\n",
        "import numpy as np\n",
        "\n",
        "# Connect to SQLite database (creates one if it doesn't exist)\n",
        "conn = sqlite3.connect('sales.db')\n",
        "cursor = conn.cursor()\n",
        "\n",
        "# Create sales table and insert sample data\n",
        "cursor.execute('''\n",
        "    CREATE TABLE IF NOT EXISTS sales (\n",
        "        id INTEGER PRIMARY KEY,\n",
        "        product TEXT,\n",
        "        quantity INTEGER,\n",
        "        price REAL\n",
        "    )\n",
        "''')\n",
        "\n",
        "# Clear existing data and insert sample data\n",
        "cursor.execute('DELETE FROM sales')\n",
        "sample_data = [\n",
        "    ('Widget A', 10, 25.99),\n",
        "    ('Widget B', 15, 15.50),\n",
        "    ('Widget C', 8, 30.00),\n",
        "    ('Widget A', 5, 25.99),\n",
        "    ('Widget B', 20, 15.50)\n",
        "]\n",
        "cursor.executemany('INSERT INTO sales (product, quantity, price) VALUES (?, ?, ?)', sample_data)\n",
        "conn.commit()\n",
        "\n",
        "# Query total quantity and revenue\n",
        "cursor.execute('''\n",
        "    SELECT SUM(quantity) as total_quantity,\n",
        "           SUM(quantity * price) as total_revenue\n",
        "    FROM sales\n",
        "''')\n",
        "result = cursor.fetchone()\n",
        "total_quantity, total_revenue = result\n",
        "\n",
        "# Print results\n",
        "print(f\"Total Quantity Sold: {total_quantity}\")\n",
        "print(f\"Total Revenue: ${total_revenue:.2f}\")\n",
        "\n",
        "# Create bar chart\n",
        "metrics = ['Total Quantity', 'Total Revenue']\n",
        "values = [total_quantity, total_revenue]\n",
        "\n",
        "plt.figure(figsize=(6, 4))\n",
        "plt.bar(metrics, values, color=['blue', 'green'])\n",
        "plt.title('Sales Summary')\n",
        "plt.ylabel('Value')\n",
        "plt.savefig('sales_summary.png')\n",
        "\n",
        "# Close connection\n",
        "conn.close()"
      ],
      "metadata": {
        "colab": {
          "base_uri": "https://localhost:8080/",
          "height": 426
        },
        "id": "xW40c_PIHLjK",
        "outputId": "01a70666-43fb-46e7-ac93-559c16586922"
      },
      "execution_count": 5,
      "outputs": [
        {
          "output_type": "stream",
          "name": "stdout",
          "text": [
            "Total Quantity Sold: 58\n",
            "Total Revenue: $1172.35\n"
          ]
        },
        {
          "output_type": "display_data",
          "data": {
            "text/plain": [
              "<Figure size 600x400 with 1 Axes>"
            ],
            "image/png": "[encoded data removed]"
          },
          "metadata": {}
        }
      ]
    }
  ],
  "metadata": {
    "colab": {
      "name": "Welcome To Colab",
      "toc_visible": true,
      "provenance": []
    },
    "kernelspec": {
      "display_name": "Python 3",
      "name": "python3"
    }
  },
  "nbformat": 4,
  "nbformat_minor": 0
}