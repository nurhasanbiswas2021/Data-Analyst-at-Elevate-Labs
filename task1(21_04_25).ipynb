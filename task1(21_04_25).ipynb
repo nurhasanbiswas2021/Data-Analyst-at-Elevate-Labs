{
  "nbformat": 4,
  "nbformat_minor": 0,
  "metadata": {
    "colab": {
      "provenance": [],
      "authorship_tag": "ABX9TyObZiISp3QkYS2+2V5tDlM+",
      "include_colab_link": true
    },
    "kernelspec": {
      "name": "python3",
      "display_name": "Python 3"
    },
    "language_info": {
      "name": "python"
    }
  },
  "cells": [
    {
      "cell_type": "markdown",
      "metadata": {
        "id": "view-in-github",
        "colab_type": "text"
      },
      "source": [
        "<a href=\"https://colab.research.google.com/github/nurhasanbiswas2021/task-1/blob/main/task1(21_04_25).ipynb\" target=\"_parent\"><img src=\"https://colab.research.google.com/assets/colab-badge.svg\" alt=\"Open In Colab\"/></a>"
      ]
    },
    {
      "cell_type": "code",
      "execution_count": 45,
      "metadata": {
        "id": "GXAlMxeJ9FrL"
      },
      "outputs": [],
      "source": [
        "#Import Necessary Libraries\n",
        "import pandas as pd\n",
        "import numpy as np"
      ]
    },
    {
      "cell_type": "code",
      "source": [
        "#Load the Dataset\n",
        "df = pd.read_csv('marketing_campaign.csv', sep=';')"
      ],
      "metadata": {
        "id": "_uWXbVCg9Q3o"
      },
      "execution_count": 46,
      "outputs": []
    },
    {
      "cell_type": "code",
      "source": [
        "#Initial Data Inspection\n",
        "print(df.head())"
      ],
      "metadata": {
        "colab": {
          "base_uri": "https://localhost:8080/"
        },
        "id": "41WCdj6r9qTm",
        "outputId": "eeed236e-5127-471a-c78b-8189f6a4b001"
      },
      "execution_count": 47,
      "outputs": [
        {
          "output_type": "stream",
          "name": "stdout",
          "text": [
            "  ID,Year_Birth,Education,Marital_Status,Income,Kidhome,Teenhome,Dt_Customer,Recency,MntWines,MntFruits,MntMeatProducts,MntFishProducts,MntSweetProducts,MntGoldProds,NumDealsPurchases,NumWebPurchases,NumCatalogPurchases,NumStorePurchases,NumWebVisitsMonth,AcceptedCmp3,AcceptedCmp4,AcceptedCmp5,AcceptedCmp1,AcceptedCmp2,Complain,Z_CostContact,Z_Revenue,Response\n",
            "0  5524,1957,Graduation,Single,58138,0,0,04-09-20...                                                                                                                                                                                                                                                                                                                      \n",
            "1  2174,1954,Graduation,Single,46344,1,1,08-03-20...                                                                                                                                                                                                                                                                                                                      \n",
            "2  4141,1965,Graduation,Together,71613,0,0,21-08-...                                                                                                                                                                                                                                                                                                                      \n",
            "3  6182,1984,Graduation,Together,26646,1,0,10-02-...                                                                                                                                                                                                                                                                                                                      \n",
            "4  5324,1981,PhD,Married,58293,1,0,19-01-2014,94,...                                                                                                                                                                                                                                                                                                                      \n"
          ]
        }
      ]
    },
    {
      "cell_type": "code",
      "source": [
        "print(df.info())"
      ],
      "metadata": {
        "colab": {
          "base_uri": "https://localhost:8080/"
        },
        "id": "XDvUzwKw9xYg",
        "outputId": "131c36d8-ad3f-4c6a-d421-3c7a3b72adc4"
      },
      "execution_count": 48,
      "outputs": [
        {
          "output_type": "stream",
          "name": "stdout",
          "text": [
            "<class 'pandas.core.frame.DataFrame'>\n",
            "RangeIndex: 2240 entries, 0 to 2239\n",
            "Data columns (total 1 columns):\n",
            " #   Column                                                                                                                                                                                                                                                                                                                                                                    Non-Null Count  Dtype \n",
            "---  ------                                                                                                                                                                                                                                                                                                                                                                    --------------  ----- \n",
            " 0   ID,Year_Birth,Education,Marital_Status,Income,Kidhome,Teenhome,Dt_Customer,Recency,MntWines,MntFruits,MntMeatProducts,MntFishProducts,MntSweetProducts,MntGoldProds,NumDealsPurchases,NumWebPurchases,NumCatalogPurchases,NumStorePurchases,NumWebVisitsMonth,AcceptedCmp3,AcceptedCmp4,AcceptedCmp5,AcceptedCmp1,AcceptedCmp2,Complain,Z_CostContact,Z_Revenue,Response  2240 non-null   object\n",
            "dtypes: object(1)\n",
            "memory usage: 17.6+ KB\n",
            "None\n"
          ]
        }
      ]
    },
    {
      "cell_type": "code",
      "source": [
        "print(df.isnull().sum())"
      ],
      "metadata": {
        "colab": {
          "base_uri": "https://localhost:8080/"
        },
        "id": "VPcyJg-r95QP",
        "outputId": "efcc4c60-9feb-4862-def4-878e0f889cba"
      },
      "execution_count": 49,
      "outputs": [
        {
          "output_type": "stream",
          "name": "stdout",
          "text": [
            "ID,Year_Birth,Education,Marital_Status,Income,Kidhome,Teenhome,Dt_Customer,Recency,MntWines,MntFruits,MntMeatProducts,MntFishProducts,MntSweetProducts,MntGoldProds,NumDealsPurchases,NumWebPurchases,NumCatalogPurchases,NumStorePurchases,NumWebVisitsMonth,AcceptedCmp3,AcceptedCmp4,AcceptedCmp5,AcceptedCmp1,AcceptedCmp2,Complain,Z_CostContact,Z_Revenue,Response    0\n",
            "dtype: int64\n"
          ]
        }
      ]
    },
    {
      "cell_type": "code",
      "source": [
        "#Handle Missing Values\n",
        "df = df.dropna()"
      ],
      "metadata": {
        "id": "035TIisM9-jr"
      },
      "execution_count": 51,
      "outputs": []
    },
    {
      "cell_type": "code",
      "source": [
        "#Remove Duplicate Rows\n",
        "print(f\"Duplicate rows before removal: {df.duplicated().sum()}\")"
      ],
      "metadata": {
        "colab": {
          "base_uri": "https://localhost:8080/"
        },
        "id": "gcFYVXqt-ASV",
        "outputId": "04852295-31f2-4dee-869e-bb35a23d5e6e"
      },
      "execution_count": 52,
      "outputs": [
        {
          "output_type": "stream",
          "name": "stdout",
          "text": [
            "Duplicate rows before removal: 0\n"
          ]
        }
      ]
    },
    {
      "cell_type": "code",
      "source": [
        "df = df.drop_duplicates()"
      ],
      "metadata": {
        "id": "woz9JleQ-FOt"
      },
      "execution_count": 53,
      "outputs": []
    },
    {
      "cell_type": "code",
      "source": [
        "# Drop duplicate rows\n",
        "df = df.drop_duplicates()\n",
        "\n",
        "# Print duplicate rows after removal\n",
        "print(f\"Duplicate rows after removal: {df.duplicated().sum()}\")\n",
        "\n",
        "# Check if 'Education' column exists, and if not, try variations\n",
        "if 'Education' in df.columns:\n",
        "    df['Education'] = df['Education'].str.strip().str.lower()\n",
        "else:\n",
        "    # Try different variations of the column name\n",
        "    possible_names = ['education', 'EDUC', 'Education Level']\n",
        "    for name in possible_names:\n",
        "        if name in df.columns:\n",
        "            print(f\"Found column '{name}' instead of 'Education'\")\n",
        "            df['Education'] = df[name].str.strip().str.lower()\n",
        "            break\n",
        "    else:\n",
        "        print(\"Column 'Education' or its variations not found in the DataFrame.\")"
      ],
      "metadata": {
        "colab": {
          "base_uri": "https://localhost:8080/"
        },
        "id": "83qXcsoFCbwb",
        "outputId": "7924735f-4530-4ef3-b1ea-306ab258b7f7"
      },
      "execution_count": 39,
      "outputs": [
        {
          "output_type": "stream",
          "name": "stdout",
          "text": [
            "Duplicate rows after removal: 0\n",
            "Column 'Education' or its variations not found in the DataFrame.\n"
          ]
        }
      ]
    },
    {
      "cell_type": "code",
      "source": [
        "# Check if 'Marital_Status' column exists, and if not, try variations\n",
        "if 'Marital_Status' in df.columns:\n",
        "    df['Marital_Status'] = df['Marital_Status'].str.strip().str.lower()\n",
        "else:\n",
        "    # Try different variations of the column name\n",
        "    possible_names = ['Marital_status', 'MARITAL', 'Marital Status', 'Marital_Stat']\n",
        "    #Added some possible variations\n",
        "    for name in possible_names:\n",
        "        if name in df.columns:\n",
        "            print(f\"Found column '{name}' instead of 'Marital_Status'\")\n",
        "            df['Marital_Status'] = df[name].str.strip().str.lower()  # Corrected assignment\n",
        "            break\n",
        "    else:\n",
        "        print(\"Column 'Marital_Status' or its variations not found in the DataFrame.\")\n",
        "        # Further investigation is needed to understand why the column is missing"
      ],
      "metadata": {
        "colab": {
          "base_uri": "https://localhost:8080/"
        },
        "id": "gXsoAwSl-tfr",
        "outputId": "7fa22f94-8c30-47a5-d221-c2383d453266"
      },
      "execution_count": 14,
      "outputs": [
        {
          "output_type": "stream",
          "name": "stdout",
          "text": [
            "Column 'Marital_Status' or its variations not found in the DataFrame.\n"
          ]
        }
      ]
    },
    {
      "cell_type": "code",
      "source": [
        "# Check if 'Dt_Customer' column exists, and if not, try variations\n",
        "if 'Dt_Customer' in df.columns:\n",
        "    df['Dt_Customer'] = pd.to_datetime(df['Dt_Customer'], format='%d-%m-%Y')\n",
        "else:\n",
        "    # Try different variations of the column name\n",
        "    possible_names = ['dt_customer', 'DtCustomer', 'Date_Customer']  # Add more variations if needed\n",
        "    for name in possible_names:\n",
        "        if name in df.columns:\n",
        "            print(f\"Found column '{name}' instead of 'Dt_Customer'\")\n",
        "            df['Dt_Customer'] = pd.to_datetime(df[name], format='%d-%m-%Y')  # Use the found column name\n",
        "            break\n",
        "    else:\n",
        "        print(\"Column 'Dt_Customer' or its variations not found in the DataFrame.\")\n",
        "        # Further investigation is needed to understand why the column is missing"
      ],
      "metadata": {
        "colab": {
          "base_uri": "https://localhost:8080/"
        },
        "id": "urb8pL8Q-2iQ",
        "outputId": "cd77076f-b886-41b6-81fd-0b0c08432804"
      },
      "execution_count": 16,
      "outputs": [
        {
          "output_type": "stream",
          "name": "stdout",
          "text": [
            "Column 'Dt_Customer' or its variations not found in the DataFrame.\n"
          ]
        }
      ]
    },
    {
      "cell_type": "code",
      "source": [
        "#Rename Column Headers\n",
        "df.columns = df.columns.str.strip().str.lower().str.replace(' ', '_')"
      ],
      "metadata": {
        "id": "XEt16FJ--6bT"
      },
      "execution_count": 42,
      "outputs": []
    },
    {
      "cell_type": "code",
      "source": [
        "#Check and Fix Data Types\n",
        "print(df.dtypes)"
      ],
      "metadata": {
        "colab": {
          "base_uri": "https://localhost:8080/"
        },
        "id": "6U4i9q_l_8Av",
        "outputId": "03bc024b-2a50-4812-e6ec-a9824cce0d65"
      },
      "execution_count": 43,
      "outputs": [
        {
          "output_type": "stream",
          "name": "stdout",
          "text": [
            "id,year_birth,education,marital_status,income,kidhome,teenhome,dt_customer,recency,mntwines,mntfruits,mntmeatproducts,mntfishproducts,mntsweetproducts,mntgoldprods,numdealspurchases,numwebpurchases,numcatalogpurchases,numstorepurchases,numwebvisitsmonth,acceptedcmp3,acceptedcmp4,acceptedcmp5,acceptedcmp1,acceptedcmp2,complain,z_costcontact,z_revenue,response    object\n",
            "dtype: object\n"
          ]
        }
      ]
    },
    {
      "cell_type": "code",
      "source": [
        "#Save the Cleaned Dataset\n",
        "df.to_csv('cleaned_marketing_campaign.csv', index=False)"
      ],
      "metadata": {
        "id": "ndsBkevVABPl"
      },
      "execution_count": 44,
      "outputs": []
    }
  ]
}